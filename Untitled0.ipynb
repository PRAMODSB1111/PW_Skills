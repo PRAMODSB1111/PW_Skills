{
  "nbformat": 4,
  "nbformat_minor": 0,
  "metadata": {
    "colab": {
      "provenance": []
    },
    "kernelspec": {
      "name": "python3",
      "display_name": "Python 3"
    },
    "language_info": {
      "name": "python"
    }
  },
  "cells": [
    {
      "cell_type": "markdown",
      "source": [
        "1)What is Python, and why is it popular?\n",
        "\n",
        "->Python is a high-level, interpreted, and general-purpose programming language created by Guido van Rossum in 1991. It emphasizes readability and simplicity, allowing programmers to express ideas in fewer lines of code compared to other languages. Python is open-source and available for a variety of platforms, including Windows, macOS, Linux, and more.\n",
        "\n",
        "->Python’s simplicity, versatility, and rich ecosystem have made it a go-to language for developers worldwide, contributing to its sustained popularity and relevance across diverse industries."
      ],
      "metadata": {
        "id": "7vmGMXl-nWv2"
      }
    },
    {
      "cell_type": "markdown",
      "source": [
        "2)What is an interpreter in Python\n",
        "\n",
        "->An interpreter in Python is a software tool that executes Python code line by line, translating the high-level code written by the programmer into a form that the computer can understand and execute. Unlike compiled languages that require the entire program to be converted into machine code before running, Python interprets the code directly."
      ],
      "metadata": {
        "id": "TSNejCzpn32r"
      }
    },
    {
      "cell_type": "markdown",
      "source": [
        "3) What are pre-defined keywords in Python?\n",
        "\n",
        "Pre-defined Keywords in Python\n",
        "Keywords in Python are reserved words that have specific meanings and purposes. They form the building blocks of Python syntax and cannot be used as variable names, function names, or identifiers. These keywords are case-sensitive.\n",
        "\n",
        "List of Python Keywords (as of Python 3.10+)\n",
        "Here’s a categorized list of Python’s predefined keywords:\n",
        "\n",
        "1. Control Flow Keywords\n",
        "if, elif, else: Used for conditional statements.\n",
        "for, while: Used for loops.\n",
        "break, continue: Control loop execution.\n",
        "pass: A placeholder statement that does nothing.\n",
        "2. Function and Class Keywords\n",
        "def: Used to define a function.\n",
        "return: Specifies the return value of a function.\n",
        "yield: Used with generators to produce a value and pause execution.\n",
        "lambda: Defines anonymous (inline) functions.\n",
        "class: Defines a class.\n",
        "3. Exception Handling Keywords\n",
        "try, except, finally: Handle exceptions.\n",
        "raise: Raises an exception.\n",
        "assert: Used for debugging purposes to test conditions.\n",
        "4. Logical and Comparison Keywords\n",
        "and, or, not: Logical operators.\n",
        "is: Tests object identity.\n",
        "in: Tests membership in collections like lists or strings.\n",
        "5. Variable and Type Keywords\n",
        "True, False: Boolean values.\n",
        "None: Represents the absence of a value.\n",
        "6. Context Management Keywords\n",
        "with: Simplifies resource management (e.g., file handling).\n",
        "as: Creates an alias in with or import statements.\n",
        "7. Import and Module Keywords\n",
        "import: Imports a module.\n",
        "from: Imports specific parts of a module.\n",
        "8. Other Keywords\n",
        "global: Declares a global variable.\n",
        "nonlocal: Declares a variable in the nearest enclosing scope (not global).\n",
        "del: Deletes an object or variable.\n",
        "async, await: Used in asynchronous programming.\n",
        "match, case: Pattern matching introduced in Python 3.10."
      ],
      "metadata": {
        "id": "OngmlQ3foL6H"
      }
    },
    {
      "cell_type": "markdown",
      "source": [
        "4) Can keywords be used as variable names?\n",
        "-> No\n"
      ],
      "metadata": {
        "id": "n4cjWaFyoi09"
      }
    },
    {
      "cell_type": "markdown",
      "source": [
        "5) What is Mutability in Python?\n",
        "->Mutability in Python refers to whether an object’s state or content can be changed after it is created. Objects in Python are classified as either mutable or immutable based on this property."
      ],
      "metadata": {
        "id": "10ZODRjWoxa-"
      }
    },
    {
      "cell_type": "markdown",
      "source": [
        "6) Why are lists mutable, but tuples are immutable\n",
        "-> lists are mutable since they can altered after it's creation.\n",
        "-> tuples are immutable since they cannot be changed once created."
      ],
      "metadata": {
        "id": "dw65i7kio5Fd"
      }
    },
    {
      "cell_type": "markdown",
      "source": [
        "7)What is the difference between “==” and “is” operators in Python\n",
        "\n",
        "-> \"==\" compares the object where as \"is\" compares the address of objects"
      ],
      "metadata": {
        "id": "JCyJMWLYpVLK"
      }
    },
    {
      "cell_type": "markdown",
      "source": [
        "8)What are logical operators in Python?\n",
        "and – Logical AND,\n",
        "or – Logical OR,\n",
        "not – Logical NOT."
      ],
      "metadata": {
        "id": "01UrJk8aprjV"
      }
    },
    {
      "cell_type": "markdown",
      "source": [
        "9)What is type casting in Python?\n",
        "\n",
        "Type casting in Python refers to converting one data type into another. Python provides two types of type casting:\n",
        "\n",
        "Implicit Type Casting (Automatic Type Conversion)\n",
        "Explicit Type Casting (Manual Type Conversion)"
      ],
      "metadata": {
        "id": "3Gtnt8ImqCKc"
      }
    },
    {
      "cell_type": "markdown",
      "source": [
        "10) What is the difference between implicit and explicit type casting?\n",
        "\n",
        "1. Implicit Type Casting (Automatic Type Conversion)\n",
        "\n",
        "Definition: Python automatically converts one data type to another without the need for explicit instructions from the programmer.\n",
        "When It Happens: Occurs when a smaller data type is assigned to a larger data type to avoid data loss. For example, when an integer is assigned to a float.\n",
        "Control: Python handles this conversion automatically.\n",
        "\n",
        "2. Explicit Type Casting (Manual Type Conversion)\n",
        "\n",
        "Definition: The programmer manually converts one data type to another using built-in functions like int(), float(), str(), etc.\n",
        "When It Happens: Occurs when a data type needs to be converted explicitly, usually when the conversion is non-trivial or the programmer needs control over the process.\n",
        "Control: The programmer explicitly specifies the conversion."
      ],
      "metadata": {
        "id": "8KSvGRHLqSaW"
      }
    },
    {
      "cell_type": "markdown",
      "source": [
        "11) What is the purpose of conditional statements in Python??\n",
        "Conditional statements in Python are used to make decisions in a program. They allow the program to execute different blocks of code based on whether certain conditions are True or False. This enables the program to respond dynamically to various inputs and situations."
      ],
      "metadata": {
        "id": "qQwdCR2HqkEQ"
      }
    },
    {
      "cell_type": "markdown",
      "source": [
        "12) How does the elif statement work??\n",
        "The elif (short for else if) statement is used to check multiple conditions in Python. It allows you to test more than two possibilities by providing additional conditions after the initial if statement."
      ],
      "metadata": {
        "id": "2CEz9ekXquhF"
      }
    },
    {
      "cell_type": "markdown",
      "source": [
        "13)What is the difference between for and while loops??\n",
        "1. for Loop\n",
        "Purpose: Used to iterate over a sequence (such as a list, tuple, string, or range) a set number of times.\n",
        "Structure: The loop iterates through an iterable (e.g., a list or range) and automatically stops when the sequence is exhausted.\n",
        "Best for: Iterating over a known sequence of items or when the number of iterations is known beforehand.\n",
        "2. while Loop\n",
        "Purpose: Executes a block of code as long as a given condition is True. The loop will keep running until the condition becomes False.\n",
        "Structure: The loop runs based on a condition that is checked before each iteration. If the condition is True, the loop continues; if it is False, the loop terminates.\n",
        "Best for: When the number of iterations is unknown or dependent on a condition that might change during the loop."
      ],
      "metadata": {
        "id": "fOpMthZSq6M6"
      }
    },
    {
      "cell_type": "markdown",
      "source": [
        "14)Describe a scenario where a while loop is more suitable than a for loop??\n",
        "Imagine a program that prompts the user to enter a valid password. The program should continue asking the user to input the password until the correct one is entered. This scenario is better suited for a while loop because the number of iterations is not predetermined and depends on the condition (whether the entered password is correct or not)."
      ],
      "metadata": {
        "id": "Kw-2HwlprQC2"
      }
    },
    {
      "cell_type": "markdown",
      "source": [
        "**Practical Questions**"
      ],
      "metadata": {
        "id": "sV9nvD3yrgDU"
      }
    },
    {
      "cell_type": "markdown",
      "source": [
        "1) Write a Python program to print \"Hello, World!\n"
      ],
      "metadata": {
        "id": "WBSqwEVkroq5"
      }
    },
    {
      "cell_type": "code",
      "source": [
        "print(\"Hello, World!\")\n"
      ],
      "metadata": {
        "colab": {
          "base_uri": "https://localhost:8080/"
        },
        "id": "DnI9mhCqrudu",
        "outputId": "e66e99a0-6cc3-4af0-ab34-e508d49117e2"
      },
      "execution_count": 1,
      "outputs": [
        {
          "output_type": "stream",
          "name": "stdout",
          "text": [
            "Hello, World!\n"
          ]
        }
      ]
    },
    {
      "cell_type": "markdown",
      "source": [
        "2) Write a Python program that displays your name and age"
      ],
      "metadata": {
        "id": "BGGN7knZr2r7"
      }
    },
    {
      "cell_type": "code",
      "source": [
        "# Define the name and age\n",
        "name = \"Pramod S B\"  # Replace with your actual name\n",
        "age = 25            # Replace with your actual age\n",
        "\n",
        "# Display the name and age\n",
        "print(\"Name:\", name)\n",
        "print(\"Age:\", age)\n"
      ],
      "metadata": {
        "colab": {
          "base_uri": "https://localhost:8080/"
        },
        "id": "mzbmkZBDr4Z9",
        "outputId": "5bdb606c-5ed6-4111-aca8-dc693801a1ce"
      },
      "execution_count": 2,
      "outputs": [
        {
          "output_type": "stream",
          "name": "stdout",
          "text": [
            "Name: Pramod S B\n",
            "Age: 25\n"
          ]
        }
      ]
    },
    {
      "cell_type": "markdown",
      "source": [
        "3) Write code to print all the pre-defined keywords in Python using the keyword library"
      ],
      "metadata": {
        "id": "h2qPZteZsCss"
      }
    },
    {
      "cell_type": "code",
      "source": [
        "import keyword\n",
        "\n",
        "# Print all the pre-defined keywords in Python\n",
        "print(\"Python Keywords:\")\n",
        "print(keyword.kwlist)\n"
      ],
      "metadata": {
        "colab": {
          "base_uri": "https://localhost:8080/"
        },
        "id": "L7aD6Rz_sEej",
        "outputId": "2c13f190-2b72-4d2b-bbab-bf7b8b2a071e"
      },
      "execution_count": 3,
      "outputs": [
        {
          "output_type": "stream",
          "name": "stdout",
          "text": [
            "Python Keywords:\n",
            "['False', 'None', 'True', 'and', 'as', 'assert', 'async', 'await', 'break', 'class', 'continue', 'def', 'del', 'elif', 'else', 'except', 'finally', 'for', 'from', 'global', 'if', 'import', 'in', 'is', 'lambda', 'nonlocal', 'not', 'or', 'pass', 'raise', 'return', 'try', 'while', 'with', 'yield']\n"
          ]
        }
      ]
    },
    {
      "cell_type": "markdown",
      "source": [
        "4) Write a program that checks if a given word is a Python keyword"
      ],
      "metadata": {
        "id": "_1ihqcoWsOb1"
      }
    },
    {
      "cell_type": "code",
      "source": [
        "import keyword\n",
        "\n",
        "# Input word from the user\n",
        "word = input(\"Enter a word: \")\n",
        "\n",
        "# Check if the word is a Python keyword\n",
        "if keyword.iskeyword(word):\n",
        "    print(f\"'{word}' is a Python keyword.\")\n",
        "else:\n",
        "    print(f\"'{word}' is not a Python keyword.\")\n"
      ],
      "metadata": {
        "colab": {
          "base_uri": "https://localhost:8080/"
        },
        "id": "mygerXBosPwj",
        "outputId": "ebb81bba-9b9e-4e28-920b-4a17b361a024"
      },
      "execution_count": 4,
      "outputs": [
        {
          "output_type": "stream",
          "name": "stdout",
          "text": [
            "Enter a word: hi\n",
            "'hi' is not a Python keyword.\n"
          ]
        }
      ]
    },
    {
      "cell_type": "markdown",
      "source": [
        "5) Create a list and tuple in Python, and demonstrate how attempting to change an element works differently\n",
        "for each"
      ],
      "metadata": {
        "id": "bCG6N7ozsaHO"
      }
    },
    {
      "cell_type": "code",
      "source": [
        "# Creating a list\n",
        "my_list = [1, 2, 3, 4, 5]\n",
        "\n",
        "# Attempt to change an element in the list\n",
        "print(\"Original list:\", my_list)\n",
        "my_list[2] = 10  # Changing the third element\n",
        "print(\"List after modification:\", my_list)\n",
        "\n",
        "# Creating a tuple\n",
        "my_tuple = (1, 2, 3, 4, 5)\n",
        "\n",
        "# Attempt to change an element in the tuple\n",
        "print(\"Original tuple:\", my_tuple)\n",
        "try:\n",
        "    my_tuple[2] = 10  # Attempt to change the third element\n",
        "except TypeError as e:\n",
        "    print(f\"Error: {e}\")\n"
      ],
      "metadata": {
        "colab": {
          "base_uri": "https://localhost:8080/"
        },
        "id": "5BqGRhQesi3g",
        "outputId": "7dab7e57-866c-4553-8ebc-a7ff0c28d100"
      },
      "execution_count": 5,
      "outputs": [
        {
          "output_type": "stream",
          "name": "stdout",
          "text": [
            "Original list: [1, 2, 3, 4, 5]\n",
            "List after modification: [1, 2, 10, 4, 5]\n",
            "Original tuple: (1, 2, 3, 4, 5)\n",
            "Error: 'tuple' object does not support item assignment\n"
          ]
        }
      ]
    },
    {
      "cell_type": "markdown",
      "source": [
        "6) Write a function to demonstrate the behavior of mutable and immutable arguments"
      ],
      "metadata": {
        "id": "ssaxvlVBsq72"
      }
    },
    {
      "cell_type": "code",
      "source": [
        "# Function to demonstrate mutable and immutable argument behavior\n",
        "def demonstrate_mutable_immutable(mutable_arg, immutable_arg):\n",
        "    print(\"Before modification:\")\n",
        "    print(\"Mutable argument:\", mutable_arg)\n",
        "    print(\"Immutable argument:\", immutable_arg)\n",
        "\n",
        "    # Modifying mutable argument (list)\n",
        "    mutable_arg.append(4)\n",
        "    print(\"\\nAfter modifying the mutable argument:\")\n",
        "    print(\"Mutable argument:\", mutable_arg)\n",
        "\n",
        "    # Trying to modify immutable argument (string)\n",
        "    try:\n",
        "        immutable_arg += \" World\"\n",
        "    except TypeError as e:\n",
        "        print(\"\\nError while modifying the immutable argument:\", e)\n",
        "\n",
        "    print(\"\\nAfter attempting to modify the immutable argument:\")\n",
        "    print(\"Immutable argument:\", immutable_arg)\n",
        "\n",
        "\n",
        "# Demonstrating with a mutable argument (list) and an immutable argument (string)\n",
        "mutable_list = [1, 2, 3]\n",
        "immutable_string = \"Hello\"\n",
        "\n",
        "demonstrate_mutable_immutable(mutable_list, immutable_string)\n"
      ],
      "metadata": {
        "colab": {
          "base_uri": "https://localhost:8080/"
        },
        "id": "mTlzlxR7ssni",
        "outputId": "79bef69b-87c1-40b5-ec1f-0ddf6b630624"
      },
      "execution_count": 6,
      "outputs": [
        {
          "output_type": "stream",
          "name": "stdout",
          "text": [
            "Before modification:\n",
            "Mutable argument: [1, 2, 3]\n",
            "Immutable argument: Hello\n",
            "\n",
            "After modifying the mutable argument:\n",
            "Mutable argument: [1, 2, 3, 4]\n",
            "\n",
            "After attempting to modify the immutable argument:\n",
            "Immutable argument: Hello World\n"
          ]
        }
      ]
    },
    {
      "cell_type": "markdown",
      "source": [
        "8)Write a program to demonstrate the use of logical operators"
      ],
      "metadata": {
        "id": "eEjpv690s31P"
      }
    },
    {
      "cell_type": "code",
      "source": [
        "# Input values\n",
        "a = 10\n",
        "b = 20\n",
        "c = 5\n",
        "\n",
        "# Using 'and' operator\n",
        "if a < b and b > c:\n",
        "    print(\"Both conditions are True for 'and'.\")\n",
        "\n",
        "# Using 'or' operator\n",
        "if a > b or b > c:\n",
        "    print(\"At least one condition is True for 'or'.\")\n",
        "\n",
        "# Using 'not' operator\n",
        "if not a > b:\n",
        "    print(\"'not' operator makes the condition True.\")\n",
        "\n",
        "# Combined use of 'and', 'or', and 'not'\n",
        "if (a < b and b > c) or not (a > b):\n",
        "    print(\"Combined logical operators are working correctly.\")\n"
      ],
      "metadata": {
        "colab": {
          "base_uri": "https://localhost:8080/"
        },
        "id": "7K0JoOB1s5bh",
        "outputId": "32eda3f3-0e04-4a61-9147-5d9f4a8ecd79"
      },
      "execution_count": 7,
      "outputs": [
        {
          "output_type": "stream",
          "name": "stdout",
          "text": [
            "Both conditions are True for 'and'.\n",
            "At least one condition is True for 'or'.\n",
            "'not' operator makes the condition True.\n",
            "Combined logical operators are working correctly.\n"
          ]
        }
      ]
    },
    {
      "cell_type": "markdown",
      "source": [
        "9)Write a Python program to convert user input from string to integer, float, and boolean types"
      ],
      "metadata": {
        "id": "pAAF3HyKtBLV"
      }
    },
    {
      "cell_type": "code",
      "source": [
        "# Input from the user as a string\n",
        "user_input = input(\"Enter a value: \")\n",
        "\n",
        "# Converting the input to an integer\n",
        "try:\n",
        "    integer_value = int(user_input)\n",
        "    print(\"Integer conversion:\", integer_value)\n",
        "except ValueError:\n",
        "    print(\"Cannot convert to integer.\")\n",
        "\n",
        "# Converting the input to a float\n",
        "try:\n",
        "    float_value = float(user_input)\n",
        "    print(\"Float conversion:\", float_value)\n",
        "except ValueError:\n",
        "    print(\"Cannot convert to float.\")\n",
        "\n",
        "# Converting the input to a boolean\n",
        "# A non-empty string is considered True, an empty string is False\n",
        "boolean_value = bool(user_input)\n",
        "print(\"Boolean conversion:\", boolean_value)\n"
      ],
      "metadata": {
        "colab": {
          "base_uri": "https://localhost:8080/"
        },
        "id": "z79rnzB7tCfu",
        "outputId": "ded1edab-6621-418b-88b0-dd85b95ce200"
      },
      "execution_count": 8,
      "outputs": [
        {
          "output_type": "stream",
          "name": "stdout",
          "text": [
            "Enter a value: 1\n",
            "Integer conversion: 1\n",
            "Float conversion: 1.0\n",
            "Boolean conversion: True\n"
          ]
        }
      ]
    },
    {
      "cell_type": "markdown",
      "source": [
        "10) Write code to demonstrate type casting with list elements"
      ],
      "metadata": {
        "id": "wJqRGRWotRBc"
      }
    },
    {
      "cell_type": "code",
      "source": [
        "# Original list with different types of elements\n",
        "mixed_list = ['1', '2.5', 'True', 3, 4.5]\n",
        "\n",
        "# Convert all elements to integers, if possible\n",
        "int_list = []\n",
        "for item in mixed_list:\n",
        "    try:\n",
        "        int_list.append(int(item))  # Attempt to convert to integer\n",
        "    except ValueError:\n",
        "        int_list.append(None)  # If conversion fails, append None\n",
        "print(\"List after converting to integers:\", int_list)\n",
        "\n",
        "# Convert all elements to floats\n",
        "float_list = []\n",
        "for item in mixed_list:\n",
        "    try:\n",
        "        float_list.append(float(item))  # Attempt to convert to float\n",
        "    except ValueError:\n",
        "        float_list.append(None)  # If conversion fails, append None\n",
        "print(\"List after converting to floats:\", float_list)\n",
        "\n",
        "# Convert all elements to booleans\n",
        "bool_list = [bool(item) for item in mixed_list]\n",
        "print(\"List after converting to booleans:\", bool_list)\n"
      ],
      "metadata": {
        "colab": {
          "base_uri": "https://localhost:8080/"
        },
        "id": "1JF1jrDOtSm_",
        "outputId": "90658e28-8a64-46e4-d8e1-743cf5b68285"
      },
      "execution_count": 9,
      "outputs": [
        {
          "output_type": "stream",
          "name": "stdout",
          "text": [
            "List after converting to integers: [1, None, None, 3, 4]\n",
            "List after converting to floats: [1.0, 2.5, None, 3.0, 4.5]\n",
            "List after converting to booleans: [True, True, True, True, True]\n"
          ]
        }
      ]
    },
    {
      "cell_type": "markdown",
      "source": [
        "11)Write a program that checks if a number is positive, negative, or zero"
      ],
      "metadata": {
        "id": "C0MXBkVxtcfr"
      }
    },
    {
      "cell_type": "code",
      "source": [
        "# Input from the user\n",
        "number = float(input(\"Enter a number: \"))\n",
        "\n",
        "# Check if the number is positive, negative, or zero\n",
        "if number > 0:\n",
        "    print(f\"{number} is a positive number.\")\n",
        "elif number < 0:\n",
        "    print(f\"{number} is a negative number.\")\n",
        "else:\n",
        "    print(f\"{number} is zero.\")\n"
      ],
      "metadata": {
        "colab": {
          "base_uri": "https://localhost:8080/"
        },
        "id": "CtSmbZBHtdz0",
        "outputId": "c66ba9af-db7a-455c-fe69-86a5447efa97"
      },
      "execution_count": 10,
      "outputs": [
        {
          "output_type": "stream",
          "name": "stdout",
          "text": [
            "Enter a number: 2\n",
            "2.0 is a positive number.\n"
          ]
        }
      ]
    },
    {
      "cell_type": "markdown",
      "source": [
        "12)Write a for loop to print numbers from 1 to 10"
      ],
      "metadata": {
        "id": "HoaLWPT9tngX"
      }
    },
    {
      "cell_type": "code",
      "source": [
        "# Using a for loop to print numbers from 1 to 10\n",
        "for number in range(1, 11):\n",
        "    print(number)\n"
      ],
      "metadata": {
        "colab": {
          "base_uri": "https://localhost:8080/"
        },
        "id": "Y65lctcMtrjA",
        "outputId": "a923b84e-ce0e-4991-ee1d-2803945ae3c3"
      },
      "execution_count": 11,
      "outputs": [
        {
          "output_type": "stream",
          "name": "stdout",
          "text": [
            "1\n",
            "2\n",
            "3\n",
            "4\n",
            "5\n",
            "6\n",
            "7\n",
            "8\n",
            "9\n",
            "10\n"
          ]
        }
      ]
    },
    {
      "cell_type": "markdown",
      "source": [
        "13) Write a Python program to find the sum of all even numbers between 1 and 50"
      ],
      "metadata": {
        "id": "8z_WyPn-tsX0"
      }
    },
    {
      "cell_type": "code",
      "source": [
        "# Initialize the sum variable\n",
        "sum_of_even_numbers = 0\n",
        "\n",
        "# Loop through numbers from 1 to 50\n",
        "for number in range(1, 51):\n",
        "    if number % 2 == 0:  # Check if the number is even\n",
        "        sum_of_even_numbers += number  # Add the even number to the sum\n",
        "\n",
        "# Print the result\n",
        "print(\"Sum of all even numbers between 1 and 50:\", sum_of_even_numbers)\n"
      ],
      "metadata": {
        "colab": {
          "base_uri": "https://localhost:8080/"
        },
        "id": "hghErkACt0mO",
        "outputId": "044b6e0f-d1b4-45ff-ef41-c8bb58efa820"
      },
      "execution_count": 12,
      "outputs": [
        {
          "output_type": "stream",
          "name": "stdout",
          "text": [
            "Sum of all even numbers between 1 and 50: 650\n"
          ]
        }
      ]
    },
    {
      "cell_type": "markdown",
      "source": [
        "14) Write a program to reverse a string using a while loop"
      ],
      "metadata": {
        "id": "du5RkOCTt6Lj"
      }
    },
    {
      "cell_type": "code",
      "source": [
        "# Input string from the user\n",
        "string = input(\"Enter a string: \")\n",
        "\n",
        "# Initialize an empty string to store the reversed string\n",
        "reversed_string = \"\"\n",
        "\n",
        "# Use a while loop to reverse the string\n",
        "index = len(string) - 1  # Start from the last character\n",
        "while index >= 0:\n",
        "    reversed_string += string[index]  # Append each character to the reversed string\n",
        "    index -= 1  # Move to the previous character\n",
        "\n",
        "# Print the reversed string\n",
        "print(\"Reversed string:\", reversed_string)\n"
      ],
      "metadata": {
        "colab": {
          "base_uri": "https://localhost:8080/"
        },
        "id": "6AqItevNt79j",
        "outputId": "9b54e60f-8cd1-4454-dfcf-0a79a58e6f81"
      },
      "execution_count": 13,
      "outputs": [
        {
          "output_type": "stream",
          "name": "stdout",
          "text": [
            "Enter a string: Pramod\n",
            "Reversed string: domarP\n"
          ]
        }
      ]
    },
    {
      "cell_type": "markdown",
      "source": [
        "15) Write a Python program to calculate the factorial of a number provided by the user using a while loop"
      ],
      "metadata": {
        "id": "9QMAfT9BuIu2"
      }
    },
    {
      "cell_type": "code",
      "source": [
        "# Input number from the user\n",
        "number = int(input(\"Enter a number: \"))\n",
        "\n",
        "# Initialize factorial to 1\n",
        "factorial = 1\n",
        "\n",
        "# Use a while loop to calculate the factorial\n",
        "while number > 0:\n",
        "    factorial *= number  # Multiply current factorial by the number\n",
        "    number -= 1  # Decrease the number by 1\n",
        "\n",
        "# Print the result\n",
        "print(\"Factorial is:\", factorial)\n"
      ],
      "metadata": {
        "colab": {
          "base_uri": "https://localhost:8080/"
        },
        "id": "2jJ8P8iIuKeY",
        "outputId": "454d4315-3ee3-40ef-af2a-06ca347e7375"
      },
      "execution_count": 14,
      "outputs": [
        {
          "output_type": "stream",
          "name": "stdout",
          "text": [
            "Enter a number: 5\n",
            "Factorial is: 120\n"
          ]
        }
      ]
    }
  ]
}